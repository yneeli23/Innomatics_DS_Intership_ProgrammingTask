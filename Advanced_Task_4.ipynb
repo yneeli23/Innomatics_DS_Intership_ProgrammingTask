{
 "cells": [
  {
   "cell_type": "code",
   "execution_count": 73,
   "id": "48c599af-8d4f-43bf-bf6c-0e8597ba8227",
   "metadata": {
    "tags": []
   },
   "outputs": [
    {
     "name": "stdout",
     "output_type": "stream",
     "text": [
      "4\n"
     ]
    }
   ],
   "source": [
    "#Single Number\n",
    "\n",
    "def single_number(nums):\n",
    "    res = 0\n",
    "    for ele in nums:\n",
    "        res ^= ele\n",
    "    return res\n",
    "\n",
    "print(single_number([4,1,2,1,2]))        "
   ]
  },
  {
   "cell_type": "code",
   "execution_count": 74,
   "id": "1a03b2a4-7a68-4739-a33e-8e2e29b5cc48",
   "metadata": {
    "tags": []
   },
   "outputs": [
    {
     "name": "stdout",
     "output_type": "stream",
     "text": [
      "[1, 2, 4, 8, 16, 32, 64, 128, 256, 512, 1024]\n"
     ]
    }
   ],
   "source": [
    "#Sort Integers by The Number of 1 Bits\n",
    "\n",
    "def sort_by_bits(arr):\n",
    "    arr.sort(key = lambda a:[bin(a).count('1'), a])\n",
    "    return arr\n",
    "\n",
    "print(sort_by_bits([1024,512,256,128,64,32,16,8,4,2,1])) "
   ]
  },
  {
   "cell_type": "code",
   "execution_count": 71,
   "id": "40569d04-c632-4693-a759-d9618d53023b",
   "metadata": {
    "tags": []
   },
   "outputs": [
    {
     "name": "stdout",
     "output_type": "stream",
     "text": [
      "[3, 5]\n"
     ]
    }
   ],
   "source": [
    "#Single Number III\n",
    "def single_number(nums):\n",
    "    res = 0\n",
    "    sn_list = [0, 0]\n",
    "\n",
    "    for ele in nums:\n",
    "        res ^= ele\n",
    "\n",
    "    s_bit = res & ~(res - 1)\n",
    "\n",
    "    for ele in nums:\n",
    "        if ele & s_bit:\n",
    "            sn_list[0] ^= ele\n",
    "        else:\n",
    "            sn_list[1] ^= ele\n",
    "\n",
    "    return sn_list\n",
    "\n",
    "print(single_number([1,2,1,3,2,5]))"
   ]
  },
  {
   "cell_type": "code",
   "execution_count": 72,
   "id": "405b641d-c3b8-443b-9ca8-330dee3caf5f",
   "metadata": {
    "tags": []
   },
   "outputs": [
    {
     "name": "stdout",
     "output_type": "stream",
     "text": [
      "[[], [1], [2], [1, 2], [3], [1, 3], [2, 3], [1, 2, 3]]\n"
     ]
    }
   ],
   "source": [
    "#Subsets\n",
    "'''Given an integer array nums of unique elements, return all possible \n",
    "subsets\n",
    " (the power set).\n",
    "\n",
    "The solution set must not contain duplicate subsets. Return the solution in any order.'''\n",
    "\n",
    "def subsets(nums):\n",
    "    size = len(nums)\n",
    "    res = [[]]\n",
    "    \n",
    "    for num in nums:\n",
    "        res += [ele + [num] for ele in res]\n",
    "        \n",
    "    return res\n",
    "\n",
    "print(subsets([1,2,3]))"
   ]
  }
 ],
 "metadata": {
  "kernelspec": {
   "display_name": "Python 3 (ipykernel)",
   "language": "python",
   "name": "python3"
  },
  "language_info": {
   "codemirror_mode": {
    "name": "ipython",
    "version": 3
   },
   "file_extension": ".py",
   "mimetype": "text/x-python",
   "name": "python",
   "nbconvert_exporter": "python",
   "pygments_lexer": "ipython3",
   "version": "3.11.2"
  }
 },
 "nbformat": 4,
 "nbformat_minor": 5
}
