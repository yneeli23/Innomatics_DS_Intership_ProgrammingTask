{
 "cells": [
  {
   "cell_type": "code",
   "execution_count": 1,
   "id": "48329a89-6f8e-4cca-aa7c-147a76e2852e",
   "metadata": {
    "tags": []
   },
   "outputs": [
    {
     "name": "stdout",
     "output_type": "stream",
     "text": [
      "[[], [0]]\n"
     ]
    }
   ],
   "source": [
    "#Subsets\n",
    "\n",
    "def subsets(nums):\n",
    "    size = len(nums)\n",
    "    res = [[]]\n",
    "    \n",
    "    for num in nums:\n",
    "        res += [ele + [num] for ele in res]\n",
    "        \n",
    "    return res\n",
    "\n",
    "print(subsets([0]))"
   ]
  },
  {
   "cell_type": "code",
   "execution_count": 6,
   "id": "041d2f05-d460-4e69-9de7-26137aea149a",
   "metadata": {
    "tags": []
   },
   "outputs": [
    {
     "name": "stdout",
     "output_type": "stream",
     "text": [
      "1\n"
     ]
    }
   ],
   "source": [
    "#Hamming Distance\n",
    "\n",
    "def hamming_distance(x, y):\n",
    "    x = x ^ y\n",
    "    y = 0\n",
    "    \n",
    "    while x:\n",
    "        y += 1\n",
    "        x = x & x-1\n",
    "        \n",
    "    return y\n",
    "\n",
    "print(hamming_distance(3, 1))    "
   ]
  },
  {
   "cell_type": "code",
   "execution_count": 23,
   "id": "6debc874-6e04-4bbd-a7e8-ab938dd4b943",
   "metadata": {
    "tags": []
   },
   "outputs": [
    {
     "name": "stdout",
     "output_type": "stream",
     "text": [
      "99\n"
     ]
    }
   ],
   "source": [
    "def single_number(nums):\n",
    "    s = set(nums)\n",
    "    for i in s:\n",
    "        if nums.count(i) == 1:\n",
    "            return i\n",
    "\n",
    "print(single_number([0,1,0,1,0,1,99]))"
   ]
  }
 ],
 "metadata": {
  "kernelspec": {
   "display_name": "Python 3 (ipykernel)",
   "language": "python",
   "name": "python3"
  },
  "language_info": {
   "codemirror_mode": {
    "name": "ipython",
    "version": 3
   },
   "file_extension": ".py",
   "mimetype": "text/x-python",
   "name": "python",
   "nbconvert_exporter": "python",
   "pygments_lexer": "ipython3",
   "version": "3.11.2"
  }
 },
 "nbformat": 4,
 "nbformat_minor": 5
}
