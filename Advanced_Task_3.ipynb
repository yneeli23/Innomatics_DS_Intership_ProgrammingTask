{
 "cells": [
  {
   "cell_type": "code",
   "execution_count": 30,
   "id": "4697c1f4-09b6-4bec-9edd-9c5ab7eb3dd6",
   "metadata": {
    "tags": []
   },
   "outputs": [
    {
     "name": "stdout",
     "output_type": "stream",
     "text": [
      "36\n"
     ]
    }
   ],
   "source": [
    "#Maximum Product of Two Elements in an Array\n",
    "\n",
    "def max_product(nums):\n",
    "    f_index = nums.index(max(nums))\n",
    "    sam = nums.copy()\n",
    "    del sam[f_index]\n",
    "    s_index = sam.index(max(sam))\n",
    "        \n",
    "    return (nums[f_index]-1)*(sam[s_index]-1)\n",
    "\n",
    "print(max_product([10,2,5,2]))"
   ]
  },
  {
   "cell_type": "code",
   "execution_count": 54,
   "id": "6052506c-9b6e-4f0f-becf-4d1b702c3bca",
   "metadata": {
    "tags": []
   },
   "outputs": [
    {
     "name": "stdout",
     "output_type": "stream",
     "text": [
      "3\n"
     ]
    }
   ],
   "source": [
    "#Count Number of Teams\n",
    "\n",
    "def num_teams(rating):\n",
    "    size = len(rating)\n",
    "    count = 0\n",
    "    \n",
    "    for i in range(size):\n",
    "        for j in range(1, size):\n",
    "            for k in range(2, size):\n",
    "                if 0 <= i < j < k < size:\n",
    "                    if rating[i] < rating[j] < rating[k] or rating[i] > rating[j] > rating[k]:\n",
    "                        count += 1\n",
    "    return count\n",
    "print(num_teams([2,5,3,4,1]))\n",
    "                "
   ]
  },
  {
   "cell_type": "code",
   "execution_count": 65,
   "id": "5f39b2e9-b010-4993-81ca-22887f4cc9b7",
   "metadata": {
    "tags": []
   },
   "outputs": [
    {
     "name": "stdout",
     "output_type": "stream",
     "text": [
      "1\n"
     ]
    }
   ],
   "source": [
    "#Number of Students Doing Homework at a Given Time\n",
    "\n",
    "def busy_student(st, et, qt):\n",
    "    size = len(st)\n",
    "    count = 0\n",
    "    \n",
    "    for i in range(size):\n",
    "        st_in = [*range(st[i], et[i]+1)]\n",
    "        \n",
    "        if qt in st_in:\n",
    "            count += 1\n",
    "        \n",
    "    return count\n",
    "    \n",
    "print(busy_student([4], [4], 4))"
   ]
  },
  {
   "cell_type": "code",
   "execution_count": 71,
   "id": "c16b15e1-02b3-45d1-9c16-42440696d3fc",
   "metadata": {
    "tags": []
   },
   "outputs": [
    {
     "name": "stdout",
     "output_type": "stream",
     "text": [
      "12\n"
     ]
    }
   ],
   "source": [
    "#Number of Steps to Reduce a Number to Zero\n",
    "\n",
    "def number_of_steps(num):\n",
    "    count = 0\n",
    "    \n",
    "    while True:\n",
    "        if num == 0: break\n",
    "        \n",
    "        if num % 2:\n",
    "            num -= 1\n",
    "            count += 1\n",
    "        else:\n",
    "            num //= 2\n",
    "            count += 1\n",
    "        if num == 0: break\n",
    "        \n",
    "    return count\n",
    "\n",
    "print(number_of_steps(123))"
   ]
  },
  {
   "cell_type": "code",
   "execution_count": 94,
   "id": "84927157-05ad-4305-b0d0-27d599002902",
   "metadata": {
    "tags": []
   },
   "outputs": [
    {
     "name": "stdout",
     "output_type": "stream",
     "text": [
      "[0, 1, 1, 2, 1, 2]\n"
     ]
    }
   ],
   "source": [
    "#Counting Bits\n",
    "\n",
    "def count_bits(n):\n",
    "    arr = [*range(n+1)]\n",
    "    arr = [bin(num).count('1') for num in arr]\n",
    "\n",
    "    return arr\n",
    "\n",
    "print(count_bits(5))"
   ]
  }
 ],
 "metadata": {
  "kernelspec": {
   "display_name": "Python 3 (ipykernel)",
   "language": "python",
   "name": "python3"
  },
  "language_info": {
   "codemirror_mode": {
    "name": "ipython",
    "version": 3
   },
   "file_extension": ".py",
   "mimetype": "text/x-python",
   "name": "python",
   "nbconvert_exporter": "python",
   "pygments_lexer": "ipython3",
   "version": "3.11.2"
  }
 },
 "nbformat": 4,
 "nbformat_minor": 5
}
