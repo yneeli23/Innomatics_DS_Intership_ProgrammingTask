{
 "cells": [
  {
   "cell_type": "code",
   "execution_count": 3,
   "id": "0f281d32-1d63-4756-adde-1f77e2499588",
   "metadata": {},
   "outputs": [
    {
     "name": "stdout",
     "output_type": "stream",
     "text": [
      "255[.]100[.]50[.]0\n"
     ]
    }
   ],
   "source": [
    "#Defanging an IP Address\n",
    "\n",
    "def defang_ip_addr(address):\n",
    "    de = address.replace('.', '[.]')\n",
    "    return de\n",
    "\n",
    "print(defang_ip_addr(\"255.100.50.0\"))"
   ]
  },
  {
   "cell_type": "code",
   "execution_count": 14,
   "id": "c407b7b4-b528-4a2d-b46a-5ab91addbd47",
   "metadata": {
    "tags": []
   },
   "outputs": [
    {
     "name": "stdout",
     "output_type": "stream",
     "text": [
      "2\n"
     ]
    }
   ],
   "source": [
    "#Find Numbers with Even Number of Digits\n",
    "\n",
    "def find_numbers(List):\n",
    "    total = 0\n",
    "    \n",
    "    for item in List:\n",
    "        element_size = len(str(item))\n",
    "        \n",
    "        if element_size % 2 == 0:\n",
    "            total += 1\n",
    "            \n",
    "    return total\n",
    "\n",
    "nums = [12, 345, 2, 6, 7896]\n",
    "\n",
    "print(find_numbers(nums))\n"
   ]
  },
  {
   "cell_type": "code",
   "execution_count": 21,
   "id": "77b0cd0b-9c18-41a7-8f5d-eaa696f75660",
   "metadata": {
    "tags": []
   },
   "outputs": [
    {
     "name": "stdout",
     "output_type": "stream",
     "text": [
      "6\n"
     ]
    }
   ],
   "source": [
    "#Number of Good Pairs\n",
    "'''\n",
    "Given an array of integers nums, return the number of good pairs.\n",
    "\n",
    "A pair (i, j) is called good if nums[i] == nums[j] and i < j.\n",
    "'''\n",
    "\n",
    "def num_identical_pairs(nums):\n",
    "    total = 0\n",
    "    \n",
    "    for i in range(len(nums)):\n",
    "        for j in range(i+1, len(nums)):\n",
    "            if nums[i] == nums[j]:\n",
    "                total += 1\n",
    "                \n",
    "    return total\n",
    "    \n",
    "nums = [1,1,1,1]\n",
    "print(num_identical_pairs(nums))    "
   ]
  },
  {
   "cell_type": "code",
   "execution_count": 25,
   "id": "516947a7-0c5c-4275-a0b5-53b569013ad4",
   "metadata": {
    "tags": []
   },
   "outputs": [
    {
     "name": "stdout",
     "output_type": "stream",
     "text": [
      "[4, 0, 1, 1, 3]\n"
     ]
    }
   ],
   "source": [
    "#How Many Numbers Are Smaller Than the Current\n",
    "\n",
    "def smaller_than_current(nums):\n",
    "    length = len(nums)\n",
    "    res = []\n",
    "    \n",
    "    for i in range(length):\n",
    "        count = 0\n",
    "        \n",
    "        for j in range(length):\n",
    "            if nums[i] > nums[j] and i != j:\n",
    "                count += 1\n",
    "\n",
    "        res.append(count)\n",
    "        \n",
    "    return res\n",
    "\n",
    "nums = [8,1,2,2,3]\n",
    "\n",
    "print(smaller_than_current(nums))    "
   ]
  },
  {
   "cell_type": "code",
   "execution_count": 32,
   "id": "8bcde81e-6a6c-42e0-971d-3acd8f24e98c",
   "metadata": {
    "tags": []
   },
   "outputs": [
    {
     "name": "stdout",
     "output_type": "stream",
     "text": [
      "21\n"
     ]
    }
   ],
   "source": [
    "#Subtract the Product and Sum of Digits of an Integer\n",
    "\n",
    "def subtract_prod_n_sum(n: int):\n",
    "    n = [*str(n)]\n",
    "    cn = [*map(int, n)]\n",
    "    p = 1\n",
    "\n",
    "    s = sum(cn)\n",
    "    for item in cn:\n",
    "        p *= item\n",
    "        \n",
    "    return p - s\n",
    "\n",
    "n = 4421\n",
    "print(subtract_prod_n_sum(n))"
   ]
  },
  {
   "cell_type": "code",
   "execution_count": 40,
   "id": "5c5a044b-760e-4cd4-8ecd-4d5fdb9d95de",
   "metadata": {
    "tags": []
   },
   "outputs": [
    {
     "name": "stdout",
     "output_type": "stream",
     "text": [
      "8\n"
     ]
    }
   ],
   "source": [
    "#XOR Operation in an Array\n",
    "\n",
    "def xor_operation(n: int, start: int):\n",
    "    nums = [start + 2 * i for i in range(n)]\n",
    "    res = 0\n",
    "\n",
    "    for i in range(n): res ^= nums[i]\n",
    "    \n",
    "    return res\n",
    "\n",
    "print(xor_operation(4, 3))"
   ]
  }
 ],
 "metadata": {
  "kernelspec": {
   "display_name": "Python 3 (ipykernel)",
   "language": "python",
   "name": "python3"
  },
  "language_info": {
   "codemirror_mode": {
    "name": "ipython",
    "version": 3
   },
   "file_extension": ".py",
   "mimetype": "text/x-python",
   "name": "python",
   "nbconvert_exporter": "python",
   "pygments_lexer": "ipython3",
   "version": "3.11.2"
  }
 },
 "nbformat": 4,
 "nbformat_minor": 5
}
