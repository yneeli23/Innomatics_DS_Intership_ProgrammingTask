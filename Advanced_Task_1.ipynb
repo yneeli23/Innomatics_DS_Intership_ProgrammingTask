{
 "cells": [
  {
   "cell_type": "code",
   "execution_count": 6,
   "id": "0cec2564-4213-4283-8d98-0109a595af68",
   "metadata": {
    "tags": []
   },
   "outputs": [
    {
     "name": "stdout",
     "output_type": "stream",
     "text": [
      "[1, 2, 3, 4, 5]\n"
     ]
    }
   ],
   "source": [
    "#Running Sum of 1d Array\n",
    "\n",
    "def Running_sum(nums):\n",
    "    for i in range(1, len(nums)):\n",
    "                nums[i] += nums[i-1]\n",
    "    return nums\n",
    "\n",
    "list_var = [1, 1, 1, 1, 1]\n",
    "result = RunningSum(list_var)\n",
    "\n",
    "print(result)"
   ]
  },
  {
   "cell_type": "code",
   "execution_count": 5,
   "id": "c15c92de-11ba-4dfa-ad30-a69fcc082c95",
   "metadata": {
    "tags": []
   },
   "outputs": [
    {
     "name": "stdout",
     "output_type": "stream",
     "text": [
      "[1, 2, 1, 2]\n"
     ]
    }
   ],
   "source": [
    "#Shuffle the Array\n",
    "#Given the array nums consisting of 2n elements in the form [x1,x2,...,xn,y1,y2,...,yn].\n",
    "#Return the array in the form [x1,y1,x2,y2,...,xn,yn].\n",
    "\n",
    "def shuffle(nums, n):\n",
    "    shuffledArray = []\n",
    "    for i in range(n):\n",
    "        shuffledArray.extend([nums[i], nums[n+i]])\n",
    "    return shuffledArray\n",
    "\n",
    "numbers = [1, 1, 2, 2]\n",
    "n = 2\n",
    "res = shuffle(numbers, n)\n",
    "                       \n",
    "print(res)"
   ]
  },
  {
   "cell_type": "code",
   "execution_count": 16,
   "id": "34d09e3b-f6c3-464c-a4c3-bd2c787a1ece",
   "metadata": {
    "tags": []
   },
   "outputs": [
    {
     "name": "stdout",
     "output_type": "stream",
     "text": [
      "[True, False, False, False, False]\n"
     ]
    }
   ],
   "source": [
    "#Kids With the Greatest Number of Candies\n",
    "\n",
    "def kids_with_candies(candies, ec):\n",
    "    high = max(candies)\n",
    "    res = []\n",
    "    for i in range(len(candies)):\n",
    "        if candies[i]+ec >= high:\n",
    "            res.append(True)\n",
    "        else:\n",
    "            res.append(False)\n",
    "    return res\n",
    "    \n",
    "    \n",
    "candies = [4,2,1,1,2]\n",
    "extra_candies = 1\n",
    "\n",
    "print(kids_with_candies(candies, extra_candies))"
   ]
  }
 ],
 "metadata": {
  "kernelspec": {
   "display_name": "Python 3 (ipykernel)",
   "language": "python",
   "name": "python3"
  },
  "language_info": {
   "codemirror_mode": {
    "name": "ipython",
    "version": 3
   },
   "file_extension": ".py",
   "mimetype": "text/x-python",
   "name": "python",
   "nbconvert_exporter": "python",
   "pygments_lexer": "ipython3",
   "version": "3.11.2"
  }
 },
 "nbformat": 4,
 "nbformat_minor": 5
}
